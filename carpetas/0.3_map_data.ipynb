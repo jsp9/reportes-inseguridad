{
 "cells": [
  {
   "cell_type": "code",
   "execution_count": null,
   "id": "f94366cb",
   "metadata": {},
   "outputs": [],
   "source": [
    "import pandas as pd\n",
    "import geopandas as gpd\n",
    "import matplotlib.pyplot as plt\n",
    "import contextily as cx"
   ]
  },
  {
   "cell_type": "code",
   "execution_count": null,
   "id": "45ced5bb",
   "metadata": {},
   "outputs": [],
   "source": [
    "df = gpd.read_file('data/points_for_map.geojson')"
   ]
  },
  {
   "cell_type": "code",
   "execution_count": null,
   "id": "67a02311",
   "metadata": {},
   "outputs": [],
   "source": [
    "nombres= df.nombre.unique()"
   ]
  },
  {
   "cell_type": "code",
   "execution_count": null,
   "id": "7ec8359b",
   "metadata": {},
   "outputs": [],
   "source": [
    "nombres= [\"lynyi\"]\n",
    "for place in nombres:\n",
    "    df_place= df.query(f'nombre == \"{place}\"')\n",
    "    df_place.crs = 'epsg:4623'\n",
    "    df_place = df_place.to_crs(epsg=3857)\n",
    "    top_delitos = df_place.delito.value_counts().head(5).index\n",
    "    mapa_top =dict([(d, d) for d in top_delitos])\n",
    "    df_place= df_place.assign(delito = lambda x:x.delito.map(mapa_top).fillna('OTRO'))\n",
    "    ax = df_place.plot('delito', figsize=(15, 15), alpha=0.5, legend= True)\n",
    "    try:\n",
    "        cx.add_basemap(ax, zoom=17)\n",
    "    except:\n",
    "        try: \n",
    "            cx.add_basemap(ax, zoom=16)\n",
    "        except:\n",
    "            #print('fail')\n",
    "            try:\n",
    "                cx.add_basemap(ax, zoom=15)\n",
    "            except:\n",
    "                try:\n",
    "                    cx.add_basemap(ax, zoom=14)\n",
    "                except:\n",
    "                    pass\n",
    "    #            \n",
    "    plt.axis('off')\n",
    "    plt.savefig(f'data/figures/{place}/map.png')"
   ]
  },
  {
   "cell_type": "code",
   "execution_count": null,
   "id": "40d9d1af",
   "metadata": {},
   "outputs": [],
   "source": []
  }
 ],
 "metadata": {
  "kernelspec": {
   "display_name": "Python 3 (ipykernel)",
   "language": "python",
   "name": "python3"
  },
  "language_info": {
   "codemirror_mode": {
    "name": "ipython",
    "version": 3
   },
   "file_extension": ".py",
   "mimetype": "text/x-python",
   "name": "python",
   "nbconvert_exporter": "python",
   "pygments_lexer": "ipython3",
   "version": "3.9.5"
  }
 },
 "nbformat": 4,
 "nbformat_minor": 5
}
