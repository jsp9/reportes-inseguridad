{
 "cells": [
  {
   "cell_type": "code",
   "execution_count": 47,
   "id": "fc809a91",
   "metadata": {},
   "outputs": [],
   "source": [
    "import pandas as pd\n",
    "import numpy as np\n",
    "from zopi.spatial import create_circle\n",
    "import geopandas as gpd"
   ]
  },
  {
   "cell_type": "code",
   "execution_count": 37,
   "id": "56a0e0c6",
   "metadata": {},
   "outputs": [],
   "source": [
    "def gen_nombre(tam):\n",
    "    nombres = []\n",
    "    for n in range(tam):\n",
    "    \n",
    "        nombre = []\n",
    "        for i in range(5):\n",
    "            nombre.append(np.random.choice(list('qwertyuiopasdfghjklzxcvbnm')))\n",
    "        nombre=''.join(nombre)\n",
    "        nombres.append(nombre)\n",
    "    return nombres"
   ]
  },
  {
   "cell_type": "code",
   "execution_count": null,
   "id": "e74a3519",
   "metadata": {},
   "outputs": [],
   "source": []
  },
  {
   "cell_type": "code",
   "execution_count": 39,
   "id": "80a40e2f",
   "metadata": {},
   "outputs": [],
   "source": [
    "n = 60\n",
    "sample_places = pd.read_csv('carpetas_completa_marzo_2022.csv',\n",
    "                            usecols=[\"longitud\", \"latitud\"],\n",
    "                           nrows=n).dropna()\n",
    "sample_places= (sample_places\n",
    "                .assign(nombre =  gen_nombre(tam = sample_places.shape[0]))\n",
    "                .set_index('nombre'))"
   ]
  },
  {
   "cell_type": "code",
   "execution_count": 44,
   "id": "335b960c",
   "metadata": {},
   "outputs": [],
   "source": [
    "circulos = []\n",
    "r = 250\n",
    "for row in sample_places.itertuples():\n",
    "    circulos.append(create_circle(latitud=row.latitud, longitud=row.longitud, radio_metros=r))"
   ]
  },
  {
   "cell_type": "code",
   "execution_count": 50,
   "id": "54265ec8",
   "metadata": {},
   "outputs": [],
   "source": [
    "sample_places= (sample_places\n",
    " .assign(geometry= circulos)\n",
    ".pipe(gpd.GeoDataFrame))"
   ]
  },
  {
   "cell_type": "code",
   "execution_count": 51,
   "id": "83228bc4",
   "metadata": {},
   "outputs": [
    {
     "data": {
      "text/plain": [
       "<AxesSubplot:>"
      ]
     },
     "execution_count": 51,
     "metadata": {},
     "output_type": "execute_result"
    },
    {
     "data": {
      "image/png": "[encoded data removed]",
      "text/plain": [
       "<Figure size 432x288 with 1 Axes>"
      ]
     },
     "metadata": {
      "needs_background": "light"
     },
     "output_type": "display_data"
    }
   ],
   "source": [
    "sample_places.plot()"
   ]
  },
  {
   "cell_type": "code",
   "execution_count": 57,
   "id": "32aebd43",
   "metadata": {},
   "outputs": [],
   "source": [
    "sample_places.to_file('data/places.geojson', driver = 'GeoJSON')"
   ]
  },
  {
   "cell_type": "code",
   "execution_count": null,
   "id": "9f7878a0",
   "metadata": {},
   "outputs": [],
   "source": []
  }
 ],
 "metadata": {
  "kernelspec": {
   "display_name": "Python 3 (ipykernel)",
   "language": "python",
   "name": "python3"
  },
  "language_info": {
   "codemirror_mode": {
    "name": "ipython",
    "version": 3
   },
   "file_extension": ".py",
   "mimetype": "text/x-python",
   "name": "python",
   "nbconvert_exporter": "python",
   "pygments_lexer": "ipython3",
   "version": "3.7.10"
  }
 },
 "nbformat": 4,
 "nbformat_minor": 5
}
