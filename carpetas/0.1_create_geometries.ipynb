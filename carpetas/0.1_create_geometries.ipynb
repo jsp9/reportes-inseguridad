{
 "cells": [
  {
   "cell_type": "code",
   "execution_count": 1,
   "id": "fc809a91",
   "metadata": {},
   "outputs": [
    {
     "name": "stderr",
     "output_type": "stream",
     "text": [
      "/home/pepe/miniconda3/envs/desarollo_plataforma/lib/python3.7/site-packages/pyproj/crs/crs.py:131: FutureWarning: '+init=<authority>:<code>' syntax is deprecated. '<authority>:<code>' is the preferred initialization method. When making the change, be mindful of axis order changes: https://pyproj4.github.io/pyproj/stable/gotchas.html#axis-order-changes-in-proj-6\n",
      "  in_crs_string = _prepare_from_proj_string(in_crs_string)\n",
      "/home/pepe/miniconda3/envs/desarollo_plataforma/lib/python3.7/site-packages/pyproj/crs/crs.py:131: FutureWarning: '+init=<authority>:<code>' syntax is deprecated. '<authority>:<code>' is the preferred initialization method. When making the change, be mindful of axis order changes: https://pyproj4.github.io/pyproj/stable/gotchas.html#axis-order-changes-in-proj-6\n",
      "  in_crs_string = _prepare_from_proj_string(in_crs_string)\n",
      "/home/pepe/miniconda3/envs/desarollo_plataforma/lib/python3.7/site-packages/pyproj/crs/crs.py:131: FutureWarning: '+init=<authority>:<code>' syntax is deprecated. '<authority>:<code>' is the preferred initialization method. When making the change, be mindful of axis order changes: https://pyproj4.github.io/pyproj/stable/gotchas.html#axis-order-changes-in-proj-6\n",
      "  in_crs_string = _prepare_from_proj_string(in_crs_string)\n",
      "/home/pepe/miniconda3/envs/desarollo_plataforma/lib/python3.7/site-packages/pyproj/crs/crs.py:131: FutureWarning: '+init=<authority>:<code>' syntax is deprecated. '<authority>:<code>' is the preferred initialization method. When making the change, be mindful of axis order changes: https://pyproj4.github.io/pyproj/stable/gotchas.html#axis-order-changes-in-proj-6\n",
      "  in_crs_string = _prepare_from_proj_string(in_crs_string)\n",
      "/home/pepe/miniconda3/envs/desarollo_plataforma/lib/python3.7/site-packages/pyproj/crs/crs.py:131: FutureWarning: '+init=<authority>:<code>' syntax is deprecated. '<authority>:<code>' is the preferred initialization method. When making the change, be mindful of axis order changes: https://pyproj4.github.io/pyproj/stable/gotchas.html#axis-order-changes-in-proj-6\n",
      "  in_crs_string = _prepare_from_proj_string(in_crs_string)\n",
      "/home/pepe/miniconda3/envs/desarollo_plataforma/lib/python3.7/site-packages/pyproj/crs/crs.py:131: FutureWarning: '+init=<authority>:<code>' syntax is deprecated. '<authority>:<code>' is the preferred initialization method. When making the change, be mindful of axis order changes: https://pyproj4.github.io/pyproj/stable/gotchas.html#axis-order-changes-in-proj-6\n",
      "  in_crs_string = _prepare_from_proj_string(in_crs_string)\n",
      "/home/pepe/miniconda3/envs/desarollo_plataforma/lib/python3.7/site-packages/pyproj/crs/crs.py:131: FutureWarning: '+init=<authority>:<code>' syntax is deprecated. '<authority>:<code>' is the preferred initialization method. When making the change, be mindful of axis order changes: https://pyproj4.github.io/pyproj/stable/gotchas.html#axis-order-changes-in-proj-6\n",
      "  in_crs_string = _prepare_from_proj_string(in_crs_string)\n",
      "/home/pepe/miniconda3/envs/desarollo_plataforma/lib/python3.7/site-packages/pyproj/crs/crs.py:131: FutureWarning: '+init=<authority>:<code>' syntax is deprecated. '<authority>:<code>' is the preferred initialization method. When making the change, be mindful of axis order changes: https://pyproj4.github.io/pyproj/stable/gotchas.html#axis-order-changes-in-proj-6\n",
      "  in_crs_string = _prepare_from_proj_string(in_crs_string)\n"
     ]
    }
   ],
   "source": [
    "import pandas as pd\n",
    "import numpy as np\n",
    "from zopi.spatial import create_circle\n",
    "import geopandas as gpd"
   ]
  },
  {
   "cell_type": "code",
   "execution_count": 2,
   "id": "56a0e0c6",
   "metadata": {},
   "outputs": [],
   "source": [
    "#def gen_nombre(tam):\n",
    "#    nombres = []\n",
    "#    for n in range(tam):\n",
    "#    \n",
    "#        nombre = []\n",
    "#        for i in range(5):\n",
    "#            nombre.append(np.random.choice(list('qwertyuiopasdfghjklzxcvbnm')))\n",
    "#        nombre=''.join(nombre)\n",
    "#        nombres.append(nombre)\n",
    "#    return nombres"
   ]
  },
  {
   "cell_type": "code",
   "execution_count": null,
   "id": "e74a3519",
   "metadata": {},
   "outputs": [],
   "source": []
  },
  {
   "cell_type": "code",
   "execution_count": 7,
   "id": "80a40e2f",
   "metadata": {},
   "outputs": [],
   "source": [
    "#n = 60\n",
    "#sample_places = pd.read_csv('data/carpetas_completa_marzo_2022.csv',\n",
    "#                            usecols=[\"longitud\", \"latitud\"],\n",
    "#                           nrows=n).dropna()\n",
    "#sample_places= (sample_places\n",
    "#                .assign(nombre =  gen_nombre(tam = sample_places.shape[0]))\n",
    "#                .set_index('nombre'))"
   ]
  },
  {
   "cell_type": "code",
   "execution_count": 9,
   "id": "20a203bd",
   "metadata": {},
   "outputs": [],
   "source": [
    "sample_places = pd.read_csv('s3://opi-data-science/play/pepe/Ubicación de equipos RMX - Hoja 1.csv')"
   ]
  },
  {
   "cell_type": "code",
   "execution_count": 10,
   "id": "1a2e23e8",
   "metadata": {},
   "outputs": [
    {
     "data": {
      "text/html": [
       "<div>\n",
       "<style scoped>\n",
       "    .dataframe tbody tr th:only-of-type {\n",
       "        vertical-align: middle;\n",
       "    }\n",
       "\n",
       "    .dataframe tbody tr th {\n",
       "        vertical-align: top;\n",
       "    }\n",
       "\n",
       "    .dataframe thead th {\n",
       "        text-align: right;\n",
       "    }\n",
       "</style>\n",
       "<table border=\"1\" class=\"dataframe\">\n",
       "  <thead>\n",
       "    <tr style=\"text-align: right;\">\n",
       "      <th></th>\n",
       "      <th>zona</th>\n",
       "      <th>equipo</th>\n",
       "      <th>parque</th>\n",
       "      <th>direccion</th>\n",
       "      <th>coordenadas</th>\n",
       "      <th>orden</th>\n",
       "    </tr>\n",
       "  </thead>\n",
       "  <tbody>\n",
       "    <tr>\n",
       "      <th>0</th>\n",
       "      <td>Zona Hyadi</td>\n",
       "      <td>Juvenil In lak'ech  Hala Ken</td>\n",
       "      <td>PCM</td>\n",
       "      <td>C. Gabriel Mancera 415, Col del Valle Centro, ...</td>\n",
       "      <td>19.391020429764122, -99.16339798149812</td>\n",
       "      <td>NaN</td>\n",
       "    </tr>\n",
       "    <tr>\n",
       "      <th>1</th>\n",
       "      <td>Zona Hyadi</td>\n",
       "      <td>Conquista Antares</td>\n",
       "      <td>Parque Hundido</td>\n",
       "      <td>Av Porfirio Díaz 130B, Extremadura Insurgentes...</td>\n",
       "      <td>19.378484502264673, -99.18061940264813</td>\n",
       "      <td>1.0</td>\n",
       "    </tr>\n",
       "    <tr>\n",
       "      <th>2</th>\n",
       "      <td>Zona Hyadi</td>\n",
       "      <td>Conquista Deneb</td>\n",
       "      <td>Las Américas</td>\n",
       "      <td>Diag. San Antonio 1737, Narvarte Oriente, Beni...</td>\n",
       "      <td>19.401124824202494, -99.14856673204054</td>\n",
       "      <td>1.0</td>\n",
       "    </tr>\n",
       "    <tr>\n",
       "      <th>3</th>\n",
       "      <td>Zona Hyadi</td>\n",
       "      <td>Cadena Eyldon</td>\n",
       "      <td>Parque San Lorenzo</td>\n",
       "      <td>Manzanas 65, Tlacoquemecatl del Valle, Benito ...</td>\n",
       "      <td>19.376015558104193, -99.17675366710313</td>\n",
       "      <td>NaN</td>\n",
       "    </tr>\n",
       "    <tr>\n",
       "      <th>4</th>\n",
       "      <td>Zona Hyadi</td>\n",
       "      <td>Escuadrón Ilampú</td>\n",
       "      <td>Parque Arboledas</td>\n",
       "      <td>Heriberto Frías 921, Col del Valle Centro, Ben...</td>\n",
       "      <td>19.377955275408578, -99.1623686209967</td>\n",
       "      <td>NaN</td>\n",
       "    </tr>\n",
       "  </tbody>\n",
       "</table>\n",
       "</div>"
      ],
      "text/plain": [
       "         zona                        equipo              parque  \\\n",
       "0  Zona Hyadi  Juvenil In lak'ech  Hala Ken                 PCM   \n",
       "1  Zona Hyadi             Conquista Antares      Parque Hundido   \n",
       "2  Zona Hyadi               Conquista Deneb        Las Américas   \n",
       "3  Zona Hyadi                 Cadena Eyldon  Parque San Lorenzo   \n",
       "4  Zona Hyadi              Escuadrón Ilampú    Parque Arboledas   \n",
       "\n",
       "                                           direccion  \\\n",
       "0  C. Gabriel Mancera 415, Col del Valle Centro, ...   \n",
       "1  Av Porfirio Díaz 130B, Extremadura Insurgentes...   \n",
       "2  Diag. San Antonio 1737, Narvarte Oriente, Beni...   \n",
       "3  Manzanas 65, Tlacoquemecatl del Valle, Benito ...   \n",
       "4  Heriberto Frías 921, Col del Valle Centro, Ben...   \n",
       "\n",
       "                              coordenadas  orden  \n",
       "0  19.391020429764122, -99.16339798149812    NaN  \n",
       "1  19.378484502264673, -99.18061940264813    1.0  \n",
       "2  19.401124824202494, -99.14856673204054    1.0  \n",
       "3  19.376015558104193, -99.17675366710313    NaN  \n",
       "4   19.377955275408578, -99.1623686209967    NaN  "
      ]
     },
     "execution_count": 10,
     "metadata": {},
     "output_type": "execute_result"
    }
   ],
   "source": [
    "sample_places.head()"
   ]
  },
  {
   "cell_type": "code",
   "execution_count": 22,
   "id": "951646d4",
   "metadata": {},
   "outputs": [],
   "source": [
    "sample_places =(sample_places\n",
    " .assign(nombre= lambda x: x.zona + ', ' + x.equipo + ', ' + x.parque)\n",
    " .set_index('nombre')\n",
    " .coordenadas.str.split(',', expand = True)\n",
    ".rename(columns = {0:'latitud', 1:'longitud'})\n",
    " .assign(longitud= lambda x: x.longitud.astype(float),\n",
    "        latitud= lambda x: x.latitud.astype(float))\n",
    ")"
   ]
  },
  {
   "cell_type": "code",
   "execution_count": 23,
   "id": "335b960c",
   "metadata": {},
   "outputs": [],
   "source": [
    "circulos = []\n",
    "r = 250\n",
    "for row in sample_places.itertuples():\n",
    "    circulos.append(create_circle(latitud=row.latitud, longitud=row.longitud, radio_metros=r))"
   ]
  },
  {
   "cell_type": "code",
   "execution_count": 24,
   "id": "54265ec8",
   "metadata": {},
   "outputs": [],
   "source": [
    "sample_places= (sample_places\n",
    " .assign(geometry= circulos)\n",
    ".pipe(gpd.GeoDataFrame))"
   ]
  },
  {
   "cell_type": "code",
   "execution_count": 31,
   "id": "e640eb89",
   "metadata": {},
   "outputs": [
    {
     "data": {
      "text/plain": [
       "'POLYGON ((-99.14618021569405 19.40107977721615, -99.14619636262987 19.40085803470255, -99.14623533738504 19.40063886174527, -99.14629676450545 19.40042436907952, -99.14638005231764 19.40021662235592, -99.14648439863065 19.40001762224814, -99.1466087984648 19.39982928518705, -99.14675205373281 19.39965342490633, -99.14691278477987 19.39949173497714, -99.14708944367162 19.39934577250072, -99.14728032910176 19.39921694311461, -99.14748360277603 19.39910648745833, -99.14769730711461 19.39901546922722, -99.14791938410241 19.39894476493079, -99.14814769510608 19.39889505545305, -99.14838004146678 19.39886681949669, -99.14861418567055 19.39886032897391, -99.14884787289267 19.39887564638844, -99.1490788527085 19.39891262423359, -99.14930490076209 19.39897090641268, -99.14952384018383 19.39904993166755, -99.14973356255119 19.39914893898252, -99.14993204819076 19.39926697491204, -99.15011738562623 19.39940290276076, -99.15028778998503 19.39955541352865, -99.1504416201866 19.39972303851487, -99.15057739474659 19.39990416345994, -99.15069380604496 19.40009704408969, -99.15078973292053 19.40029982291106, -99.15086425147051 19.40051054709908, -99.15091664395111 19.40072718730158, -99.15094640569316 19.40094765718175, -99.15095324996629 19.40116983350964, -99.15093711074449 19.4013915766093, -99.15089814334618 19.40161075096497, -99.15083672294277 19.40182524578778, -99.15075344094961 19.40203299534419, -99.15064909933403 19.40223199885162, -99.15052470289515 19.40242033974852, -99.15038144958982 19.40259620415394, -99.15022071899739 19.40275789833809, -99.1500440590348 19.40290386503632, -99.14985317104944 19.40303269844869, -99.14964989343382 19.40314315778114, -99.14943618391919 19.40323417919691, -99.14921410071955 19.40330488606414, -99.14898578270699 19.40335459740006, -99.14875342880968 19.40338283443058, -99.14851927683122 19.40338932520217, -99.1482855818951 19.4033740072016, -99.14805459472241 19.40333702795802, -99.1478285399518 19.40327874362186, -99.14760959471104 19.40319971553422, -99.14739986764627 19.4031007048196, -99.14720137861141 19.40298266505422, -99.14701603921327 19.40284673308081, -99.14684563439982 19.40269421805799, -99.1466918052691 19.40252658884996, -99.14655603326433 19.40234545987857, -99.14643962590733 19.40215257557271, -99.14634370420782 19.40194979356669, -99.14626919186965 19.40173906680786, -99.14621680639794 19.40152242474715, -99.1461870521925 19.40130195379285, -99.14618021569405 19.40107977721615))'"
      ]
     },
     "execution_count": 31,
     "metadata": {},
     "output_type": "execute_result"
    }
   ],
   "source": [
    "str(sample_places.loc['Zona Hyadi, Conquista Deneb, Las Américas'].geometry)"
   ]
  },
  {
   "cell_type": "code",
   "execution_count": 25,
   "id": "83228bc4",
   "metadata": {},
   "outputs": [
    {
     "data": {
      "text/plain": [
       "<AxesSubplot:>"
      ]
     },
     "execution_count": 25,
     "metadata": {},
     "output_type": "execute_result"
    },
    {
     "data": {
      "image/png": "[encoded data removed]",
      "text/plain": [
       "<Figure size 432x288 with 1 Axes>"
      ]
     },
     "metadata": {
      "needs_background": "light"
     },
     "output_type": "display_data"
    }
   ],
   "source": [
    "sample_places.plot()"
   ]
  },
  {
   "cell_type": "code",
   "execution_count": 26,
   "id": "32aebd43",
   "metadata": {},
   "outputs": [],
   "source": [
    "sample_places.to_file('data/places.geojson', driver = 'GeoJSON')"
   ]
  },
  {
   "cell_type": "code",
   "execution_count": null,
   "id": "9f7878a0",
   "metadata": {},
   "outputs": [],
   "source": []
  }
 ],
 "metadata": {
  "kernelspec": {
   "display_name": "Python 3 (ipykernel)",
   "language": "python",
   "name": "python3"
  },
  "language_info": {
   "codemirror_mode": {
    "name": "ipython",
    "version": 3
   },
   "file_extension": ".py",
   "mimetype": "text/x-python",
   "name": "python",
   "nbconvert_exporter": "python",
   "pygments_lexer": "ipython3",
   "version": "3.7.10"
  }
 },
 "nbformat": 4,
 "nbformat_minor": 5
}
