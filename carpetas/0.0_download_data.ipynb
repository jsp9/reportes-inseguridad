{
 "cells": [
  {
   "cell_type": "code",
   "execution_count": 1,
   "id": "5cabc889",
   "metadata": {},
   "outputs": [
    {
     "name": "stdout",
     "output_type": "stream",
     "text": [
      "--2022-05-07 23:10:15--  https://archivo.datos.cdmx.gob.mx/fiscalia-general-de-justicia/carpetas-de-investigacion-fgj-de-la-ciudad-de-mexico/carpetas_completa_marzo_2022.csv\n",
      "Resolving archivo.datos.cdmx.gob.mx (archivo.datos.cdmx.gob.mx)... 189.240.234.120\n",
      "Connecting to archivo.datos.cdmx.gob.mx (archivo.datos.cdmx.gob.mx)|189.240.234.120|:443... connected.\n",
      "HTTP request sent, awaiting response... 200 OK\n",
      "Length: 418773928 (399M) [text/csv]\n",
      "Saving to: 'carpetas_completa_marzo_2022.csv'\n",
      "\n",
      "ompleta_marzo_2022.  20%[===>                ]  80.68M  18.6MB/s    eta 20s    ^C\n"
     ]
    }
   ],
   "source": [
    "! wget https://archivo.datos.cdmx.gob.mx/fiscalia-general-de-justicia/carpetas-de-investigacion-fgj-de-la-ciudad-de-mexico/carpetas_completa_marzo_2022.csv "
   ]
  },
  {
   "cell_type": "code",
   "execution_count": 2,
   "id": "e8442a38",
   "metadata": {},
   "outputs": [
    {
     "name": "stdout",
     "output_type": "stream",
     "text": [
      "mv: cannot stat 'carpetas_completa_marzo_2022.csv': No such file or directory\r\n"
     ]
    }
   ],
   "source": [
    "! mv carpetas_completa_marzo_2022.csv data"
   ]
  },
  {
   "cell_type": "code",
   "execution_count": null,
   "id": "3a0c4fc0",
   "metadata": {},
   "outputs": [],
   "source": []
  }
 ],
 "metadata": {
  "kernelspec": {
   "display_name": "Python 3 (ipykernel)",
   "language": "python",
   "name": "python3"
  },
  "language_info": {
   "codemirror_mode": {
    "name": "ipython",
    "version": 3
   },
   "file_extension": ".py",
   "mimetype": "text/x-python",
   "name": "python",
   "nbconvert_exporter": "python",
   "pygments_lexer": "ipython3",
   "version": "3.7.10"
  }
 },
 "nbformat": 4,
 "nbformat_minor": 5
}
