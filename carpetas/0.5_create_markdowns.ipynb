{
 "cells": [
  {
   "cell_type": "code",
   "execution_count": 15,
   "id": "0512bb83",
   "metadata": {},
   "outputs": [
    {
     "name": "stdout",
     "output_type": "stream",
     "text": [
      "Images.pdf  lynyi.pdf\r\n"
     ]
    }
   ],
   "source": [
    "! ls pdfs"
   ]
  },
  {
   "cell_type": "code",
   "execution_count": 2,
   "id": "4ccba687",
   "metadata": {},
   "outputs": [],
   "source": [
    "import os\n",
    "from os import listdir\n",
    "from os.path import isfile, join\n"
   ]
  },
  {
   "cell_type": "code",
   "execution_count": 19,
   "id": "42b5101a",
   "metadata": {},
   "outputs": [
    {
     "name": "stdout",
     "output_type": "stream",
     "text": [
      "folder exists\n"
     ]
    }
   ],
   "source": [
    "try:\n",
    "    os.mkdir('pdfs/lynyi')\n",
    "except:\n",
    "    print('folder exists')\n",
    "path= \"data/figures/lynyi/\"\n",
    "imgs = [path+f for f in listdir(path) if isfile(join(path, f))]\n",
    "imgs = sorted(imgs)"
   ]
  },
  {
   "cell_type": "code",
   "execution_count": 20,
   "id": "f3358a62",
   "metadata": {},
   "outputs": [],
   "source": [
    "f= open(\"pdfs/lynyi/README.md\",\"w+\")\n",
    "\n",
    "for i in imgs:\n",
    "     f.write(f\"{i}\\n\")\n",
    "f.close()"
   ]
  },
  {
   "cell_type": "code",
   "execution_count": 22,
   "id": "8769bdc6",
   "metadata": {},
   "outputs": [
    {
     "name": "stdout",
     "output_type": "stream",
     "text": [
      "data/figures/lynyi/01.png\r\n",
      "data/figures/lynyi/02.png\r\n",
      "data/figures/lynyi/03.png\r\n",
      "data/figures/lynyi/04.png\r\n",
      "data/figures/lynyi/05.png\r\n",
      "data/figures/lynyi/06.png\r\n",
      "data/figures/lynyi/07.png\r\n",
      "data/figures/lynyi/map.png\r\n"
     ]
    }
   ],
   "source": [
    "! cat pdfs/lynyi/README.md"
   ]
  },
  {
   "cell_type": "code",
   "execution_count": null,
   "id": "a6ef1fcb",
   "metadata": {},
   "outputs": [],
   "source": []
  }
 ],
 "metadata": {
  "kernelspec": {
   "display_name": "Python 3 (ipykernel)",
   "language": "python",
   "name": "python3"
  },
  "language_info": {
   "codemirror_mode": {
    "name": "ipython",
    "version": 3
   },
   "file_extension": ".py",
   "mimetype": "text/x-python",
   "name": "python",
   "nbconvert_exporter": "python",
   "pygments_lexer": "ipython3",
   "version": "3.9.5"
  }
 },
 "nbformat": 4,
 "nbformat_minor": 5
}
