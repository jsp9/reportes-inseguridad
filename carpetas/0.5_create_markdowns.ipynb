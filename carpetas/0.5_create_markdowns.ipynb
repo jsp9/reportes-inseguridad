{
 "cells": [
  {
   "cell_type": "code",
   "execution_count": 27,
   "id": "4ccba687",
   "metadata": {},
   "outputs": [],
   "source": [
    "import os\n",
    "from os import listdir\n",
    "from os.path import isfile, join\n"
   ]
  },
  {
   "cell_type": "code",
   "execution_count": 40,
   "id": "f8d5a9a9",
   "metadata": {},
   "outputs": [
    {
     "name": "stdout",
     "output_type": "stream",
     "text": [
      "folder exists\n"
     ]
    }
   ],
   "source": [
    "for place in listdir(\"data/figures\"):\n",
    "    try:\n",
    "        os.mkdir(f'pdfs/{place}')\n",
    "    except:\n",
    "        print('folder exists')\n",
    "    path= f\"data/figures/{place}/\"\n",
    "    imgs = [f\"https://github.com/jsp9/reportes-inseguridad/blob/main/carpetas/data/figures/{place}/\"+f for f in listdir(path) if isfile(join(path, f))]\n",
    "    imgs = sorted(imgs)\n",
    "    \n",
    "    \n",
    "    f= open(f\"pdfs/{place}/README.md\",\"w+\")\n",
    "    \n",
    "    for i in imgs:\n",
    "         f.write(f\"![alt text]({i})\\n\")\n",
    "    f.close()"
   ]
  }
 ],
 "metadata": {
  "kernelspec": {
   "display_name": "Python 3 (ipykernel)",
   "language": "python",
   "name": "python3"
  },
  "language_info": {
   "codemirror_mode": {
    "name": "ipython",
    "version": 3
   },
   "file_extension": ".py",
   "mimetype": "text/x-python",
   "name": "python",
   "nbconvert_exporter": "python",
   "pygments_lexer": "ipython3",
   "version": "3.9.5"
  }
 },
 "nbformat": 4,
 "nbformat_minor": 5
}
