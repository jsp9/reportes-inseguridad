{
 "cells": [
  {
   "cell_type": "code",
   "execution_count": 15,
   "id": "0512bb83",
   "metadata": {},
   "outputs": [
    {
     "name": "stdout",
     "output_type": "stream",
     "text": [
      "Images.pdf  lynyi.pdf\r\n"
     ]
    }
   ],
   "source": [
    "! ls pdfs"
   ]
  },
  {
   "cell_type": "code",
   "execution_count": 2,
   "id": "4ccba687",
   "metadata": {},
   "outputs": [],
   "source": [
    "import os\n",
    "from os import listdir\n",
    "from os.path import isfile, join\n"
   ]
  },
  {
   "cell_type": "code",
   "execution_count": 16,
   "id": "97d6feb7",
   "metadata": {},
   "outputs": [],
   "source": [
    "try:\n",
    "    os.mkdir('pdfs/lynyi')\n",
    "except:\n",
    "    print('folder exists')\n",
    "path= \"data/figures/lynyi/\"\n",
    "imgs = [path+f for f in listdir(path) if isfile(join(path, f))]"
   ]
  },
  {
   "cell_type": "code",
   "execution_count": 17,
   "id": "1ced39c9",
   "metadata": {},
   "outputs": [
    {
     "data": {
      "text/plain": [
       "['data/figures/lynyi/05.png',\n",
       " 'data/figures/lynyi/07.png',\n",
       " 'data/figures/lynyi/02.png',\n",
       " 'data/figures/lynyi/04.png',\n",
       " 'data/figures/lynyi/03.png',\n",
       " 'data/figures/lynyi/map.png',\n",
       " 'data/figures/lynyi/01.png',\n",
       " 'data/figures/lynyi/06.png']"
      ]
     },
     "execution_count": 17,
     "metadata": {},
     "output_type": "execute_result"
    }
   ],
   "source": [
    "imgs"
   ]
  },
  {
   "cell_type": "code",
   "execution_count": null,
   "id": "6e7d2f82",
   "metadata": {},
   "outputs": [],
   "source": []
  },
  {
   "cell_type": "code",
   "execution_count": 7,
   "id": "bbdc22a1",
   "metadata": {},
   "outputs": [
    {
     "name": "stdout",
     "output_type": "stream",
     "text": [
      "01.png\t02.png\t03.png\t04.png\t05.png\t06.png\t07.png\tmap.png\r\n"
     ]
    }
   ],
   "source": []
  },
  {
   "cell_type": "code",
   "execution_count": 8,
   "id": "66dea2f3",
   "metadata": {},
   "outputs": [
    {
     "data": {
      "text/plain": [
       "['data/figures/lynyi/05.png',\n",
       " 'data/figures/lynyi/07.png',\n",
       " 'data/figures/lynyi/02.png',\n",
       " 'data/figures/lynyi/04.png',\n",
       " 'data/figures/lynyi/03.png',\n",
       " 'data/figures/lynyi/map.png',\n",
       " 'data/figures/lynyi/01.png',\n",
       " 'data/figures/lynyi/06.png']"
      ]
     },
     "execution_count": 8,
     "metadata": {},
     "output_type": "execute_result"
    }
   ],
   "source": [
    "imgs"
   ]
  },
  {
   "cell_type": "code",
   "execution_count": 14,
   "id": "fd65a119",
   "metadata": {},
   "outputs": [
    {
     "ename": "FileNotFoundError",
     "evalue": "[Errno 2] No such file or directory: 'pdfs/lynyi/README'",
     "output_type": "error",
     "traceback": [
      "\u001b[0;31m---------------------------------------------------------------------------\u001b[0m",
      "\u001b[0;31mFileNotFoundError\u001b[0m                         Traceback (most recent call last)",
      "\u001b[0;32m/tmp/ipykernel_1894/2985564161.py\u001b[0m in \u001b[0;36m<module>\u001b[0;34m\u001b[0m\n\u001b[0;32m----> 1\u001b[0;31m \u001b[0mopen\u001b[0m\u001b[0;34m(\u001b[0m\u001b[0;34m\"pdfs/lynyi/README\"\u001b[0m\u001b[0;34m,\u001b[0m\u001b[0;34m\"w+\"\u001b[0m\u001b[0;34m)\u001b[0m\u001b[0;34m\u001b[0m\u001b[0;34m\u001b[0m\u001b[0m\n\u001b[0m",
      "\u001b[0;31mFileNotFoundError\u001b[0m: [Errno 2] No such file or directory: 'pdfs/lynyi/README'"
     ]
    }
   ],
   "source": [
    "open(\"pdfs/lynyi/README\",\"w+\")"
   ]
  },
  {
   "cell_type": "code",
   "execution_count": 10,
   "id": "f3358a62",
   "metadata": {},
   "outputs": [
    {
     "ename": "FileNotFoundError",
     "evalue": "[Errno 2] No such file or directory: 'pdfs/lynyi/README.md'",
     "output_type": "error",
     "traceback": [
      "\u001b[0;31m---------------------------------------------------------------------------\u001b[0m",
      "\u001b[0;31mFileNotFoundError\u001b[0m                         Traceback (most recent call last)",
      "\u001b[0;32m/tmp/ipykernel_1894/1624220841.py\u001b[0m in \u001b[0;36m<module>\u001b[0;34m\u001b[0m\n\u001b[0;32m----> 1\u001b[0;31m \u001b[0mf\u001b[0m\u001b[0;34m=\u001b[0m \u001b[0mopen\u001b[0m\u001b[0;34m(\u001b[0m\u001b[0;34m\"pdfs/lynyi/README.md\"\u001b[0m\u001b[0;34m,\u001b[0m\u001b[0;34m\"w+\"\u001b[0m\u001b[0;34m)\u001b[0m\u001b[0;34m\u001b[0m\u001b[0;34m\u001b[0m\u001b[0m\n\u001b[0m\u001b[1;32m      2\u001b[0m \u001b[0;34m\u001b[0m\u001b[0m\n\u001b[1;32m      3\u001b[0m \u001b[0;32mfor\u001b[0m \u001b[0mi\u001b[0m \u001b[0;32min\u001b[0m \u001b[0mimgs\u001b[0m\u001b[0;34m:\u001b[0m\u001b[0;34m\u001b[0m\u001b[0;34m\u001b[0m\u001b[0m\n\u001b[1;32m      4\u001b[0m      \u001b[0mf\u001b[0m\u001b[0;34m.\u001b[0m\u001b[0mwrite\u001b[0m\u001b[0;34m(\u001b[0m\u001b[0;34mf\"{i}\\n\"\u001b[0m\u001b[0;34m)\u001b[0m\u001b[0;34m\u001b[0m\u001b[0;34m\u001b[0m\u001b[0m\n\u001b[1;32m      5\u001b[0m \u001b[0mf\u001b[0m\u001b[0;34m.\u001b[0m\u001b[0mclose\u001b[0m\u001b[0;34m(\u001b[0m\u001b[0;34m)\u001b[0m\u001b[0;34m\u001b[0m\u001b[0;34m\u001b[0m\u001b[0m\n",
      "\u001b[0;31mFileNotFoundError\u001b[0m: [Errno 2] No such file or directory: 'pdfs/lynyi/README.md'"
     ]
    }
   ],
   "source": [
    "f= open(\"pdfs/lynyi/README.md\",\"w+\")\n",
    "\n",
    "for i in imgs:\n",
    "     f.write(f\"{i}\\n\")\n",
    "f.close()"
   ]
  },
  {
   "cell_type": "code",
   "execution_count": null,
   "id": "953be6d8",
   "metadata": {},
   "outputs": [],
   "source": []
  }
 ],
 "metadata": {
  "kernelspec": {
   "display_name": "Python 3 (ipykernel)",
   "language": "python",
   "name": "python3"
  },
  "language_info": {
   "codemirror_mode": {
    "name": "ipython",
    "version": 3
   },
   "file_extension": ".py",
   "mimetype": "text/x-python",
   "name": "python",
   "nbconvert_exporter": "python",
   "pygments_lexer": "ipython3",
   "version": "3.9.5"
  }
 },
 "nbformat": 4,
 "nbformat_minor": 5
}
